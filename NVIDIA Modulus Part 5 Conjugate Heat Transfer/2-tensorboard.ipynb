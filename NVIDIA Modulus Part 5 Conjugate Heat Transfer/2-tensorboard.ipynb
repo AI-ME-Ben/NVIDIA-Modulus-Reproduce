{
 "cells": [
  {
   "cell_type": "code",
   "execution_count": null,
   "id": "259f7b07-686d-47fb-8d88-fe113dcb2b43",
   "metadata": {},
   "outputs": [
    {
     "name": "stdout",
     "output_type": "stream",
     "text": [
      "TensorFlow installation not found - running with reduced feature set.\n",
      "\n",
      "NOTE: Using experimental fast data loading logic. To disable, pass\n",
      "    \"--load_fast=false\" and report issues on GitHub. More details:\n",
      "    https://github.com/tensorflow/tensorboard/issues/4784\n",
      "\n",
      "TensorBoard 2.16.2 at http://38d55908636d:7007/ (Press CTRL+C to quit)\n"
     ]
    }
   ],
   "source": [
    "!tensorboard --logdir=./ --port=7007\n",
    "#http://localhost:7007/"
   ]
  },
  {
   "cell_type": "code",
   "execution_count": null,
   "id": "6f6a3b46-cc7d-4f76-bd0d-d82d3121d8e3",
   "metadata": {},
   "outputs": [],
   "source": []
  }
 ],
 "metadata": {
  "kernelspec": {
   "display_name": "Python 3 (ipykernel)",
   "language": "python",
   "name": "python3"
  },
  "language_info": {
   "codemirror_mode": {
    "name": "ipython",
    "version": 3
   },
   "file_extension": ".py",
   "mimetype": "text/x-python",
   "name": "python",
   "nbconvert_exporter": "python",
   "pygments_lexer": "ipython3",
   "version": "3.10.12"
  }
 },
 "nbformat": 4,
 "nbformat_minor": 5
}
